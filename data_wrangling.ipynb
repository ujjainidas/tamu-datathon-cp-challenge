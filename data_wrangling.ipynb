{
 "cells": [
  {
   "cell_type": "code",
   "execution_count": null,
   "metadata": {},
   "outputs": [],
   "source": [
    "import pandas as pd\n",
    "from matplotlib import pyplot as plt\n",
    "# ENTER YOUR CODE HERE\n",
    "cars_data = pd.read_csv(\"https://cosmos-api-prod-datasetsbucket-iuph41amgzfj.s3.amazonaws.com/cars_data.csv\", sep = \",\")\n",
    "\n",
    "data = cars_data[\"symboling\"]\n",
    "\n",
    "# Set this variable equal to your answer\n",
    "symboling_descriptive = data.describe()\n",
    "\n",
    "# ENTER YOUR CODE HERE\n",
    "cars_data_to_mean = cars_data.fillna(cars_data.mean())\n",
    "losses_data = cars_data_to_mean[\"losses\"]\n",
    "# Set this variable equal to your answer\n",
    "losses_descriptive = losses_data.describe()\n",
    "\n",
    "# ENTER YOUR CODE HERE\n",
    "plt.scatter(cars_data_to_mean[\"weight\"], cars_data_to_mean[\"price\"])\n",
    "# Set this variable equal to your answer (Hint: It should be a string)\n",
    "price_weight_relationship = \"positive exponential\""
   ]
  }
 ],
 "metadata": {
  "kernelspec": {
   "display_name": "Python 3",
   "language": "python",
   "name": "python3"
  },
  "language_info": {
   "codemirror_mode": {
    "name": "ipython",
    "version": 3
   },
   "file_extension": ".py",
   "mimetype": "text/x-python",
   "name": "python",
   "nbconvert_exporter": "python",
   "pygments_lexer": "ipython3",
   "version": "3.7.4"
  }
 },
 "nbformat": 4,
 "nbformat_minor": 2
}
